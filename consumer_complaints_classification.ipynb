{
  "metadata": {
    "kernelspec": {
      "language": "python",
      "display_name": "Python 3",
      "name": "python3"
    },
    "language_info": {
      "name": "python",
      "version": "3.10.13",
      "mimetype": "text/x-python",
      "codemirror_mode": {
        "name": "ipython",
        "version": 3
      },
      "pygments_lexer": "ipython3",
      "nbconvert_exporter": "python",
      "file_extension": ".py"
    },
    "kaggle": {
      "accelerator": "none",
      "dataSources": [
        {
          "sourceId": 2265312,
          "sourceType": "datasetVersion",
          "datasetId": 1363681
        }
      ],
      "dockerImageVersionId": 30646,
      "isInternetEnabled": true,
      "language": "python",
      "sourceType": "notebook",
      "isGpuEnabled": false
    },
    "colab": {
      "provenance": []
    }
  },
  "nbformat_minor": 0,
  "nbformat": 4,
  "cells": [
    {
      "cell_type": "code",
      "source": [
        "\n",
        "import numpy as np # linear algebra\n",
        "import pandas as pd # data processing, CSV file I/O (e.g. pd.read_csv)\n",
        "\n"
      ],
      "metadata": {
        "_uuid": "8f2839f25d086af736a60e9eeb907d3b93b6e0e5",
        "_cell_guid": "b1076dfc-b9ad-4769-8c92-a6c4dae69d19",
        "execution": {
          "iopub.status.busy": "2024-02-11T06:13:48.743538Z",
          "iopub.execute_input": "2024-02-11T06:13:48.744702Z",
          "iopub.status.idle": "2024-02-11T06:13:49.846308Z",
          "shell.execute_reply.started": "2024-02-11T06:13:48.744639Z",
          "shell.execute_reply": "2024-02-11T06:13:49.845117Z"
        },
        "trusted": true,
        "id": "rNXt6XgTe4jN"
      },
      "execution_count": null,
      "outputs": []
    },
    {
      "cell_type": "code",
      "source": [
        "# from google.colab import drive\n",
        "# drive.mount('/content/drive')\n",
        "\n",
        "\n",
        "# File ID of the file you want to attach\n",
        "file_id='11mrSlmkKS29YAmsO8eynWRArocs1u0uq'\n",
        "\n",
        "# Path in your Colab environment where you want to save the file\n",
        "# 11mrSlmkKS29YAmsO8eynWRArocs1u0uq\n",
        "\n",
        "# Download the file using the file ID\n",
        "!gdown https://drive.google.com/uc?id={file_id}\n",
        "\n",
        "# Check if the file is downloaded\n"
      ],
      "metadata": {
        "colab": {
          "base_uri": "https://localhost:8080/"
        },
        "id": "DS2hE9KLgDVm",
        "outputId": "e96e3045-7289-4000-87f0-bf27859d51a5"
      },
      "execution_count": null,
      "outputs": [
        {
          "output_type": "stream",
          "name": "stdout",
          "text": [
            "Downloading...\n",
            "From: https://drive.google.com/uc?id=11mrSlmkKS29YAmsO8eynWRArocs1u0uq\n",
            "To: /content/complaints_processed.csv\n",
            "100% 99.5M/99.5M [00:02<00:00, 40.3MB/s]\n"
          ]
        }
      ]
    },
    {
      "cell_type": "code",
      "source": [
        "df = pd.read_csv('/content/complaints_processed.csv')\n",
        "df.head()"
      ],
      "metadata": {
        "execution": {
          "iopub.status.busy": "2024-02-11T06:13:59.740445Z",
          "iopub.execute_input": "2024-02-11T06:13:59.740840Z",
          "iopub.status.idle": "2024-02-11T06:14:00.553139Z",
          "shell.execute_reply.started": "2024-02-11T06:13:59.740811Z",
          "shell.execute_reply": "2024-02-11T06:14:00.552524Z"
        },
        "trusted": true,
        "colab": {
          "base_uri": "https://localhost:8080/",
          "height": 206
        },
        "id": "HH6vja6ze4jP",
        "outputId": "abdb654a-f4c0-410d-f10b-83626e418456"
      },
      "execution_count": null,
      "outputs": [
        {
          "output_type": "execute_result",
          "data": {
            "text/plain": [
              "   Unnamed: 0           product  \\\n",
              "0           0       credit_card   \n",
              "1           1       credit_card   \n",
              "2           2    retail_banking   \n",
              "3           3  credit_reporting   \n",
              "4           4  credit_reporting   \n",
              "\n",
              "                                           narrative  \n",
              "0  purchase order day shipping amount receive pro...  \n",
              "1  forwarded message date tue subject please inve...  \n",
              "2  forwarded message cc sent friday pdt subject f...  \n",
              "3  payment history missing credit report speciali...  \n",
              "4  payment history missing credit report made mis...  "
            ],
            "text/html": [
              "\n",
              "  <div id=\"df-ce0baffe-992c-44bb-b48d-6b5221a54515\" class=\"colab-df-container\">\n",
              "    <div>\n",
              "<style scoped>\n",
              "    .dataframe tbody tr th:only-of-type {\n",
              "        vertical-align: middle;\n",
              "    }\n",
              "\n",
              "    .dataframe tbody tr th {\n",
              "        vertical-align: top;\n",
              "    }\n",
              "\n",
              "    .dataframe thead th {\n",
              "        text-align: right;\n",
              "    }\n",
              "</style>\n",
              "<table border=\"1\" class=\"dataframe\">\n",
              "  <thead>\n",
              "    <tr style=\"text-align: right;\">\n",
              "      <th></th>\n",
              "      <th>Unnamed: 0</th>\n",
              "      <th>product</th>\n",
              "      <th>narrative</th>\n",
              "    </tr>\n",
              "  </thead>\n",
              "  <tbody>\n",
              "    <tr>\n",
              "      <th>0</th>\n",
              "      <td>0</td>\n",
              "      <td>credit_card</td>\n",
              "      <td>purchase order day shipping amount receive pro...</td>\n",
              "    </tr>\n",
              "    <tr>\n",
              "      <th>1</th>\n",
              "      <td>1</td>\n",
              "      <td>credit_card</td>\n",
              "      <td>forwarded message date tue subject please inve...</td>\n",
              "    </tr>\n",
              "    <tr>\n",
              "      <th>2</th>\n",
              "      <td>2</td>\n",
              "      <td>retail_banking</td>\n",
              "      <td>forwarded message cc sent friday pdt subject f...</td>\n",
              "    </tr>\n",
              "    <tr>\n",
              "      <th>3</th>\n",
              "      <td>3</td>\n",
              "      <td>credit_reporting</td>\n",
              "      <td>payment history missing credit report speciali...</td>\n",
              "    </tr>\n",
              "    <tr>\n",
              "      <th>4</th>\n",
              "      <td>4</td>\n",
              "      <td>credit_reporting</td>\n",
              "      <td>payment history missing credit report made mis...</td>\n",
              "    </tr>\n",
              "  </tbody>\n",
              "</table>\n",
              "</div>\n",
              "    <div class=\"colab-df-buttons\">\n",
              "\n",
              "  <div class=\"colab-df-container\">\n",
              "    <button class=\"colab-df-convert\" onclick=\"convertToInteractive('df-ce0baffe-992c-44bb-b48d-6b5221a54515')\"\n",
              "            title=\"Convert this dataframe to an interactive table.\"\n",
              "            style=\"display:none;\">\n",
              "\n",
              "  <svg xmlns=\"http://www.w3.org/2000/svg\" height=\"24px\" viewBox=\"0 -960 960 960\">\n",
              "    <path d=\"M120-120v-720h720v720H120Zm60-500h600v-160H180v160Zm220 220h160v-160H400v160Zm0 220h160v-160H400v160ZM180-400h160v-160H180v160Zm440 0h160v-160H620v160ZM180-180h160v-160H180v160Zm440 0h160v-160H620v160Z\"/>\n",
              "  </svg>\n",
              "    </button>\n",
              "\n",
              "  <style>\n",
              "    .colab-df-container {\n",
              "      display:flex;\n",
              "      gap: 12px;\n",
              "    }\n",
              "\n",
              "    .colab-df-convert {\n",
              "      background-color: #E8F0FE;\n",
              "      border: none;\n",
              "      border-radius: 50%;\n",
              "      cursor: pointer;\n",
              "      display: none;\n",
              "      fill: #1967D2;\n",
              "      height: 32px;\n",
              "      padding: 0 0 0 0;\n",
              "      width: 32px;\n",
              "    }\n",
              "\n",
              "    .colab-df-convert:hover {\n",
              "      background-color: #E2EBFA;\n",
              "      box-shadow: 0px 1px 2px rgba(60, 64, 67, 0.3), 0px 1px 3px 1px rgba(60, 64, 67, 0.15);\n",
              "      fill: #174EA6;\n",
              "    }\n",
              "\n",
              "    .colab-df-buttons div {\n",
              "      margin-bottom: 4px;\n",
              "    }\n",
              "\n",
              "    [theme=dark] .colab-df-convert {\n",
              "      background-color: #3B4455;\n",
              "      fill: #D2E3FC;\n",
              "    }\n",
              "\n",
              "    [theme=dark] .colab-df-convert:hover {\n",
              "      background-color: #434B5C;\n",
              "      box-shadow: 0px 1px 3px 1px rgba(0, 0, 0, 0.15);\n",
              "      filter: drop-shadow(0px 1px 2px rgba(0, 0, 0, 0.3));\n",
              "      fill: #FFFFFF;\n",
              "    }\n",
              "  </style>\n",
              "\n",
              "    <script>\n",
              "      const buttonEl =\n",
              "        document.querySelector('#df-ce0baffe-992c-44bb-b48d-6b5221a54515 button.colab-df-convert');\n",
              "      buttonEl.style.display =\n",
              "        google.colab.kernel.accessAllowed ? 'block' : 'none';\n",
              "\n",
              "      async function convertToInteractive(key) {\n",
              "        const element = document.querySelector('#df-ce0baffe-992c-44bb-b48d-6b5221a54515');\n",
              "        const dataTable =\n",
              "          await google.colab.kernel.invokeFunction('convertToInteractive',\n",
              "                                                    [key], {});\n",
              "        if (!dataTable) return;\n",
              "\n",
              "        const docLinkHtml = 'Like what you see? Visit the ' +\n",
              "          '<a target=\"_blank\" href=https://colab.research.google.com/notebooks/data_table.ipynb>data table notebook</a>'\n",
              "          + ' to learn more about interactive tables.';\n",
              "        element.innerHTML = '';\n",
              "        dataTable['output_type'] = 'display_data';\n",
              "        await google.colab.output.renderOutput(dataTable, element);\n",
              "        const docLink = document.createElement('div');\n",
              "        docLink.innerHTML = docLinkHtml;\n",
              "        element.appendChild(docLink);\n",
              "      }\n",
              "    </script>\n",
              "  </div>\n",
              "\n",
              "\n",
              "<div id=\"df-003e9bd9-a66b-4bd0-ae72-23d376bc4ef7\">\n",
              "  <button class=\"colab-df-quickchart\" onclick=\"quickchart('df-003e9bd9-a66b-4bd0-ae72-23d376bc4ef7')\"\n",
              "            title=\"Suggest charts\"\n",
              "            style=\"display:none;\">\n",
              "\n",
              "<svg xmlns=\"http://www.w3.org/2000/svg\" height=\"24px\"viewBox=\"0 0 24 24\"\n",
              "     width=\"24px\">\n",
              "    <g>\n",
              "        <path d=\"M19 3H5c-1.1 0-2 .9-2 2v14c0 1.1.9 2 2 2h14c1.1 0 2-.9 2-2V5c0-1.1-.9-2-2-2zM9 17H7v-7h2v7zm4 0h-2V7h2v10zm4 0h-2v-4h2v4z\"/>\n",
              "    </g>\n",
              "</svg>\n",
              "  </button>\n",
              "\n",
              "<style>\n",
              "  .colab-df-quickchart {\n",
              "      --bg-color: #E8F0FE;\n",
              "      --fill-color: #1967D2;\n",
              "      --hover-bg-color: #E2EBFA;\n",
              "      --hover-fill-color: #174EA6;\n",
              "      --disabled-fill-color: #AAA;\n",
              "      --disabled-bg-color: #DDD;\n",
              "  }\n",
              "\n",
              "  [theme=dark] .colab-df-quickchart {\n",
              "      --bg-color: #3B4455;\n",
              "      --fill-color: #D2E3FC;\n",
              "      --hover-bg-color: #434B5C;\n",
              "      --hover-fill-color: #FFFFFF;\n",
              "      --disabled-bg-color: #3B4455;\n",
              "      --disabled-fill-color: #666;\n",
              "  }\n",
              "\n",
              "  .colab-df-quickchart {\n",
              "    background-color: var(--bg-color);\n",
              "    border: none;\n",
              "    border-radius: 50%;\n",
              "    cursor: pointer;\n",
              "    display: none;\n",
              "    fill: var(--fill-color);\n",
              "    height: 32px;\n",
              "    padding: 0;\n",
              "    width: 32px;\n",
              "  }\n",
              "\n",
              "  .colab-df-quickchart:hover {\n",
              "    background-color: var(--hover-bg-color);\n",
              "    box-shadow: 0 1px 2px rgba(60, 64, 67, 0.3), 0 1px 3px 1px rgba(60, 64, 67, 0.15);\n",
              "    fill: var(--button-hover-fill-color);\n",
              "  }\n",
              "\n",
              "  .colab-df-quickchart-complete:disabled,\n",
              "  .colab-df-quickchart-complete:disabled:hover {\n",
              "    background-color: var(--disabled-bg-color);\n",
              "    fill: var(--disabled-fill-color);\n",
              "    box-shadow: none;\n",
              "  }\n",
              "\n",
              "  .colab-df-spinner {\n",
              "    border: 2px solid var(--fill-color);\n",
              "    border-color: transparent;\n",
              "    border-bottom-color: var(--fill-color);\n",
              "    animation:\n",
              "      spin 1s steps(1) infinite;\n",
              "  }\n",
              "\n",
              "  @keyframes spin {\n",
              "    0% {\n",
              "      border-color: transparent;\n",
              "      border-bottom-color: var(--fill-color);\n",
              "      border-left-color: var(--fill-color);\n",
              "    }\n",
              "    20% {\n",
              "      border-color: transparent;\n",
              "      border-left-color: var(--fill-color);\n",
              "      border-top-color: var(--fill-color);\n",
              "    }\n",
              "    30% {\n",
              "      border-color: transparent;\n",
              "      border-left-color: var(--fill-color);\n",
              "      border-top-color: var(--fill-color);\n",
              "      border-right-color: var(--fill-color);\n",
              "    }\n",
              "    40% {\n",
              "      border-color: transparent;\n",
              "      border-right-color: var(--fill-color);\n",
              "      border-top-color: var(--fill-color);\n",
              "    }\n",
              "    60% {\n",
              "      border-color: transparent;\n",
              "      border-right-color: var(--fill-color);\n",
              "    }\n",
              "    80% {\n",
              "      border-color: transparent;\n",
              "      border-right-color: var(--fill-color);\n",
              "      border-bottom-color: var(--fill-color);\n",
              "    }\n",
              "    90% {\n",
              "      border-color: transparent;\n",
              "      border-bottom-color: var(--fill-color);\n",
              "    }\n",
              "  }\n",
              "</style>\n",
              "\n",
              "  <script>\n",
              "    async function quickchart(key) {\n",
              "      const quickchartButtonEl =\n",
              "        document.querySelector('#' + key + ' button');\n",
              "      quickchartButtonEl.disabled = true;  // To prevent multiple clicks.\n",
              "      quickchartButtonEl.classList.add('colab-df-spinner');\n",
              "      try {\n",
              "        const charts = await google.colab.kernel.invokeFunction(\n",
              "            'suggestCharts', [key], {});\n",
              "      } catch (error) {\n",
              "        console.error('Error during call to suggestCharts:', error);\n",
              "      }\n",
              "      quickchartButtonEl.classList.remove('colab-df-spinner');\n",
              "      quickchartButtonEl.classList.add('colab-df-quickchart-complete');\n",
              "    }\n",
              "    (() => {\n",
              "      let quickchartButtonEl =\n",
              "        document.querySelector('#df-003e9bd9-a66b-4bd0-ae72-23d376bc4ef7 button');\n",
              "      quickchartButtonEl.style.display =\n",
              "        google.colab.kernel.accessAllowed ? 'block' : 'none';\n",
              "    })();\n",
              "  </script>\n",
              "</div>\n",
              "\n",
              "    </div>\n",
              "  </div>\n"
            ]
          },
          "metadata": {},
          "execution_count": 4
        }
      ]
    },
    {
      "cell_type": "code",
      "source": [
        "df.drop(columns='Unnamed: 0',inplace=True)"
      ],
      "metadata": {
        "id": "Y1oaS6a1jA85"
      },
      "execution_count": null,
      "outputs": []
    },
    {
      "cell_type": "code",
      "source": [
        "df.head()"
      ],
      "metadata": {
        "colab": {
          "base_uri": "https://localhost:8080/",
          "height": 206
        },
        "id": "xAJsCr7_jQvD",
        "outputId": "f806fa89-8e74-4cc7-f23f-4325aa757e2c"
      },
      "execution_count": null,
      "outputs": [
        {
          "output_type": "execute_result",
          "data": {
            "text/plain": [
              "            product                                          narrative\n",
              "0       credit_card  purchase order day shipping amount receive pro...\n",
              "1       credit_card  forwarded message date tue subject please inve...\n",
              "2    retail_banking  forwarded message cc sent friday pdt subject f...\n",
              "3  credit_reporting  payment history missing credit report speciali...\n",
              "4  credit_reporting  payment history missing credit report made mis..."
            ],
            "text/html": [
              "\n",
              "  <div id=\"df-f2a60446-67de-4174-875d-d102842a2ab6\" class=\"colab-df-container\">\n",
              "    <div>\n",
              "<style scoped>\n",
              "    .dataframe tbody tr th:only-of-type {\n",
              "        vertical-align: middle;\n",
              "    }\n",
              "\n",
              "    .dataframe tbody tr th {\n",
              "        vertical-align: top;\n",
              "    }\n",
              "\n",
              "    .dataframe thead th {\n",
              "        text-align: right;\n",
              "    }\n",
              "</style>\n",
              "<table border=\"1\" class=\"dataframe\">\n",
              "  <thead>\n",
              "    <tr style=\"text-align: right;\">\n",
              "      <th></th>\n",
              "      <th>product</th>\n",
              "      <th>narrative</th>\n",
              "    </tr>\n",
              "  </thead>\n",
              "  <tbody>\n",
              "    <tr>\n",
              "      <th>0</th>\n",
              "      <td>credit_card</td>\n",
              "      <td>purchase order day shipping amount receive pro...</td>\n",
              "    </tr>\n",
              "    <tr>\n",
              "      <th>1</th>\n",
              "      <td>credit_card</td>\n",
              "      <td>forwarded message date tue subject please inve...</td>\n",
              "    </tr>\n",
              "    <tr>\n",
              "      <th>2</th>\n",
              "      <td>retail_banking</td>\n",
              "      <td>forwarded message cc sent friday pdt subject f...</td>\n",
              "    </tr>\n",
              "    <tr>\n",
              "      <th>3</th>\n",
              "      <td>credit_reporting</td>\n",
              "      <td>payment history missing credit report speciali...</td>\n",
              "    </tr>\n",
              "    <tr>\n",
              "      <th>4</th>\n",
              "      <td>credit_reporting</td>\n",
              "      <td>payment history missing credit report made mis...</td>\n",
              "    </tr>\n",
              "  </tbody>\n",
              "</table>\n",
              "</div>\n",
              "    <div class=\"colab-df-buttons\">\n",
              "\n",
              "  <div class=\"colab-df-container\">\n",
              "    <button class=\"colab-df-convert\" onclick=\"convertToInteractive('df-f2a60446-67de-4174-875d-d102842a2ab6')\"\n",
              "            title=\"Convert this dataframe to an interactive table.\"\n",
              "            style=\"display:none;\">\n",
              "\n",
              "  <svg xmlns=\"http://www.w3.org/2000/svg\" height=\"24px\" viewBox=\"0 -960 960 960\">\n",
              "    <path d=\"M120-120v-720h720v720H120Zm60-500h600v-160H180v160Zm220 220h160v-160H400v160Zm0 220h160v-160H400v160ZM180-400h160v-160H180v160Zm440 0h160v-160H620v160ZM180-180h160v-160H180v160Zm440 0h160v-160H620v160Z\"/>\n",
              "  </svg>\n",
              "    </button>\n",
              "\n",
              "  <style>\n",
              "    .colab-df-container {\n",
              "      display:flex;\n",
              "      gap: 12px;\n",
              "    }\n",
              "\n",
              "    .colab-df-convert {\n",
              "      background-color: #E8F0FE;\n",
              "      border: none;\n",
              "      border-radius: 50%;\n",
              "      cursor: pointer;\n",
              "      display: none;\n",
              "      fill: #1967D2;\n",
              "      height: 32px;\n",
              "      padding: 0 0 0 0;\n",
              "      width: 32px;\n",
              "    }\n",
              "\n",
              "    .colab-df-convert:hover {\n",
              "      background-color: #E2EBFA;\n",
              "      box-shadow: 0px 1px 2px rgba(60, 64, 67, 0.3), 0px 1px 3px 1px rgba(60, 64, 67, 0.15);\n",
              "      fill: #174EA6;\n",
              "    }\n",
              "\n",
              "    .colab-df-buttons div {\n",
              "      margin-bottom: 4px;\n",
              "    }\n",
              "\n",
              "    [theme=dark] .colab-df-convert {\n",
              "      background-color: #3B4455;\n",
              "      fill: #D2E3FC;\n",
              "    }\n",
              "\n",
              "    [theme=dark] .colab-df-convert:hover {\n",
              "      background-color: #434B5C;\n",
              "      box-shadow: 0px 1px 3px 1px rgba(0, 0, 0, 0.15);\n",
              "      filter: drop-shadow(0px 1px 2px rgba(0, 0, 0, 0.3));\n",
              "      fill: #FFFFFF;\n",
              "    }\n",
              "  </style>\n",
              "\n",
              "    <script>\n",
              "      const buttonEl =\n",
              "        document.querySelector('#df-f2a60446-67de-4174-875d-d102842a2ab6 button.colab-df-convert');\n",
              "      buttonEl.style.display =\n",
              "        google.colab.kernel.accessAllowed ? 'block' : 'none';\n",
              "\n",
              "      async function convertToInteractive(key) {\n",
              "        const element = document.querySelector('#df-f2a60446-67de-4174-875d-d102842a2ab6');\n",
              "        const dataTable =\n",
              "          await google.colab.kernel.invokeFunction('convertToInteractive',\n",
              "                                                    [key], {});\n",
              "        if (!dataTable) return;\n",
              "\n",
              "        const docLinkHtml = 'Like what you see? Visit the ' +\n",
              "          '<a target=\"_blank\" href=https://colab.research.google.com/notebooks/data_table.ipynb>data table notebook</a>'\n",
              "          + ' to learn more about interactive tables.';\n",
              "        element.innerHTML = '';\n",
              "        dataTable['output_type'] = 'display_data';\n",
              "        await google.colab.output.renderOutput(dataTable, element);\n",
              "        const docLink = document.createElement('div');\n",
              "        docLink.innerHTML = docLinkHtml;\n",
              "        element.appendChild(docLink);\n",
              "      }\n",
              "    </script>\n",
              "  </div>\n",
              "\n",
              "\n",
              "<div id=\"df-2582d26f-cfb8-4c60-a159-92352664e47c\">\n",
              "  <button class=\"colab-df-quickchart\" onclick=\"quickchart('df-2582d26f-cfb8-4c60-a159-92352664e47c')\"\n",
              "            title=\"Suggest charts\"\n",
              "            style=\"display:none;\">\n",
              "\n",
              "<svg xmlns=\"http://www.w3.org/2000/svg\" height=\"24px\"viewBox=\"0 0 24 24\"\n",
              "     width=\"24px\">\n",
              "    <g>\n",
              "        <path d=\"M19 3H5c-1.1 0-2 .9-2 2v14c0 1.1.9 2 2 2h14c1.1 0 2-.9 2-2V5c0-1.1-.9-2-2-2zM9 17H7v-7h2v7zm4 0h-2V7h2v10zm4 0h-2v-4h2v4z\"/>\n",
              "    </g>\n",
              "</svg>\n",
              "  </button>\n",
              "\n",
              "<style>\n",
              "  .colab-df-quickchart {\n",
              "      --bg-color: #E8F0FE;\n",
              "      --fill-color: #1967D2;\n",
              "      --hover-bg-color: #E2EBFA;\n",
              "      --hover-fill-color: #174EA6;\n",
              "      --disabled-fill-color: #AAA;\n",
              "      --disabled-bg-color: #DDD;\n",
              "  }\n",
              "\n",
              "  [theme=dark] .colab-df-quickchart {\n",
              "      --bg-color: #3B4455;\n",
              "      --fill-color: #D2E3FC;\n",
              "      --hover-bg-color: #434B5C;\n",
              "      --hover-fill-color: #FFFFFF;\n",
              "      --disabled-bg-color: #3B4455;\n",
              "      --disabled-fill-color: #666;\n",
              "  }\n",
              "\n",
              "  .colab-df-quickchart {\n",
              "    background-color: var(--bg-color);\n",
              "    border: none;\n",
              "    border-radius: 50%;\n",
              "    cursor: pointer;\n",
              "    display: none;\n",
              "    fill: var(--fill-color);\n",
              "    height: 32px;\n",
              "    padding: 0;\n",
              "    width: 32px;\n",
              "  }\n",
              "\n",
              "  .colab-df-quickchart:hover {\n",
              "    background-color: var(--hover-bg-color);\n",
              "    box-shadow: 0 1px 2px rgba(60, 64, 67, 0.3), 0 1px 3px 1px rgba(60, 64, 67, 0.15);\n",
              "    fill: var(--button-hover-fill-color);\n",
              "  }\n",
              "\n",
              "  .colab-df-quickchart-complete:disabled,\n",
              "  .colab-df-quickchart-complete:disabled:hover {\n",
              "    background-color: var(--disabled-bg-color);\n",
              "    fill: var(--disabled-fill-color);\n",
              "    box-shadow: none;\n",
              "  }\n",
              "\n",
              "  .colab-df-spinner {\n",
              "    border: 2px solid var(--fill-color);\n",
              "    border-color: transparent;\n",
              "    border-bottom-color: var(--fill-color);\n",
              "    animation:\n",
              "      spin 1s steps(1) infinite;\n",
              "  }\n",
              "\n",
              "  @keyframes spin {\n",
              "    0% {\n",
              "      border-color: transparent;\n",
              "      border-bottom-color: var(--fill-color);\n",
              "      border-left-color: var(--fill-color);\n",
              "    }\n",
              "    20% {\n",
              "      border-color: transparent;\n",
              "      border-left-color: var(--fill-color);\n",
              "      border-top-color: var(--fill-color);\n",
              "    }\n",
              "    30% {\n",
              "      border-color: transparent;\n",
              "      border-left-color: var(--fill-color);\n",
              "      border-top-color: var(--fill-color);\n",
              "      border-right-color: var(--fill-color);\n",
              "    }\n",
              "    40% {\n",
              "      border-color: transparent;\n",
              "      border-right-color: var(--fill-color);\n",
              "      border-top-color: var(--fill-color);\n",
              "    }\n",
              "    60% {\n",
              "      border-color: transparent;\n",
              "      border-right-color: var(--fill-color);\n",
              "    }\n",
              "    80% {\n",
              "      border-color: transparent;\n",
              "      border-right-color: var(--fill-color);\n",
              "      border-bottom-color: var(--fill-color);\n",
              "    }\n",
              "    90% {\n",
              "      border-color: transparent;\n",
              "      border-bottom-color: var(--fill-color);\n",
              "    }\n",
              "  }\n",
              "</style>\n",
              "\n",
              "  <script>\n",
              "    async function quickchart(key) {\n",
              "      const quickchartButtonEl =\n",
              "        document.querySelector('#' + key + ' button');\n",
              "      quickchartButtonEl.disabled = true;  // To prevent multiple clicks.\n",
              "      quickchartButtonEl.classList.add('colab-df-spinner');\n",
              "      try {\n",
              "        const charts = await google.colab.kernel.invokeFunction(\n",
              "            'suggestCharts', [key], {});\n",
              "      } catch (error) {\n",
              "        console.error('Error during call to suggestCharts:', error);\n",
              "      }\n",
              "      quickchartButtonEl.classList.remove('colab-df-spinner');\n",
              "      quickchartButtonEl.classList.add('colab-df-quickchart-complete');\n",
              "    }\n",
              "    (() => {\n",
              "      let quickchartButtonEl =\n",
              "        document.querySelector('#df-2582d26f-cfb8-4c60-a159-92352664e47c button');\n",
              "      quickchartButtonEl.style.display =\n",
              "        google.colab.kernel.accessAllowed ? 'block' : 'none';\n",
              "    })();\n",
              "  </script>\n",
              "</div>\n",
              "\n",
              "    </div>\n",
              "  </div>\n"
            ]
          },
          "metadata": {},
          "execution_count": 7
        }
      ]
    },
    {
      "cell_type": "code",
      "source": [
        "df.isnull().sum()"
      ],
      "metadata": {
        "execution": {
          "iopub.status.busy": "2024-02-11T06:14:02.152656Z",
          "iopub.execute_input": "2024-02-11T06:14:02.154091Z",
          "iopub.status.idle": "2024-02-11T06:14:02.200625Z",
          "shell.execute_reply.started": "2024-02-11T06:14:02.154036Z",
          "shell.execute_reply": "2024-02-11T06:14:02.199674Z"
        },
        "trusted": true,
        "id": "lpbqugbPe4jQ",
        "outputId": "f6e8d431-6c8f-4f6f-81e1-607866dd2e4b"
      },
      "execution_count": null,
      "outputs": [
        {
          "execution_count": 4,
          "output_type": "execute_result",
          "data": {
            "text/plain": "Unnamed: 0     0\nproduct        0\nnarrative     10\ndtype: int64"
          },
          "metadata": {}
        }
      ]
    },
    {
      "cell_type": "code",
      "source": [
        "df.dropna(axis=0,inplace=True)"
      ],
      "metadata": {
        "execution": {
          "iopub.status.busy": "2024-02-11T06:14:04.569201Z",
          "iopub.execute_input": "2024-02-11T06:14:04.569540Z",
          "iopub.status.idle": "2024-02-11T06:14:04.614721Z",
          "shell.execute_reply.started": "2024-02-11T06:14:04.569514Z",
          "shell.execute_reply": "2024-02-11T06:14:04.613248Z"
        },
        "trusted": true,
        "id": "CwDsU40Ie4jQ"
      },
      "execution_count": null,
      "outputs": []
    },
    {
      "cell_type": "code",
      "source": [
        "df['product'].value_counts()"
      ],
      "metadata": {
        "execution": {
          "iopub.status.busy": "2024-02-11T06:14:21.433765Z",
          "iopub.execute_input": "2024-02-11T06:14:21.434239Z",
          "iopub.status.idle": "2024-02-11T06:14:21.455309Z",
          "shell.execute_reply.started": "2024-02-11T06:14:21.434201Z",
          "shell.execute_reply": "2024-02-11T06:14:21.454126Z"
        },
        "trusted": true,
        "id": "DYdOWaO4e4jQ",
        "outputId": "f1c02d80-7586-41fd-ec99-ecbdd567d93f"
      },
      "execution_count": null,
      "outputs": [
        {
          "execution_count": 6,
          "output_type": "execute_result",
          "data": {
            "text/plain": "product\ncredit_reporting       91172\ndebt_collection        23148\nmortgages_and_loans    18990\ncredit_card            15566\nretail_banking         13535\nName: count, dtype: int64"
          },
          "metadata": {}
        }
      ]
    },
    {
      "cell_type": "code",
      "source": [
        "import re\n",
        "import string\n",
        "import nltk\n",
        "\n",
        "def text_clean(text):\n",
        "    clean_words = []\n",
        "\n",
        "    word_list = text.split()\n",
        "    for word in word_list:\n",
        "        word_l = word.lower().strip()\n",
        "        if word_l.isalpha():\n",
        "            if len(word_l) > 3:\n",
        "                if word_l not in nltk.corpus.stopwords.words('english'):\n",
        "                    clean_words.append(word_l)\n",
        "                else:\n",
        "                    continue\n",
        "    return clean_words"
      ],
      "metadata": {
        "execution": {
          "iopub.status.busy": "2024-02-11T06:14:25.322151Z",
          "iopub.execute_input": "2024-02-11T06:14:25.322539Z",
          "iopub.status.idle": "2024-02-11T06:14:26.502792Z",
          "shell.execute_reply.started": "2024-02-11T06:14:25.322514Z",
          "shell.execute_reply": "2024-02-11T06:14:26.501682Z"
        },
        "trusted": true,
        "id": "zgA5iqdBe4jR"
      },
      "execution_count": null,
      "outputs": []
    },
    {
      "cell_type": "code",
      "source": [
        "from sklearn.feature_extraction.text import TfidfVectorizer\n",
        "tfidf=TfidfVectorizer(analyzer=text_clean)\n",
        "X=tfidf.fit_transform(df['narrative'])"
      ],
      "metadata": {
        "execution": {
          "iopub.status.busy": "2024-02-11T06:14:30.298373Z",
          "iopub.execute_input": "2024-02-11T06:14:30.298792Z",
          "iopub.status.idle": "2024-02-11T06:34:23.557919Z",
          "shell.execute_reply.started": "2024-02-11T06:14:30.298763Z",
          "shell.execute_reply": "2024-02-11T06:34:23.556389Z"
        },
        "trusted": true,
        "id": "tntIOvCwe4jR"
      },
      "execution_count": null,
      "outputs": []
    },
    {
      "cell_type": "code",
      "source": [
        "\n",
        "\n",
        "from imblearn.under_sampling import RandomUnderSampler\n",
        "\n",
        "rus = RandomUnderSampler(random_state=42)\n",
        "X_rus, y_rus = rus.fit_resample(X, df['product'])\n",
        "\n",
        "\n",
        "\n",
        "\n"
      ],
      "metadata": {
        "execution": {
          "iopub.status.busy": "2024-02-11T06:43:47.849815Z",
          "iopub.execute_input": "2024-02-11T06:43:47.850199Z",
          "iopub.status.idle": "2024-02-11T06:43:48.242984Z",
          "shell.execute_reply.started": "2024-02-11T06:43:47.850171Z",
          "shell.execute_reply": "2024-02-11T06:43:48.241978Z"
        },
        "trusted": true,
        "id": "dmiNnsGve4jR"
      },
      "execution_count": null,
      "outputs": []
    },
    {
      "cell_type": "code",
      "source": [
        "y_rus.shape\n",
        "print(y_rus.value_counts())"
      ],
      "metadata": {
        "execution": {
          "iopub.status.busy": "2024-02-11T06:44:45.774832Z",
          "iopub.execute_input": "2024-02-11T06:44:45.775164Z",
          "iopub.status.idle": "2024-02-11T06:44:45.784300Z",
          "shell.execute_reply.started": "2024-02-11T06:44:45.775137Z",
          "shell.execute_reply": "2024-02-11T06:44:45.783369Z"
        },
        "trusted": true,
        "id": "qd06IlRZe4jR",
        "outputId": "5ee3fed1-0619-44d4-bc0e-9777f1ce53a3"
      },
      "execution_count": null,
      "outputs": [
        {
          "name": "stdout",
          "text": "product\ncredit_card            13535\ncredit_reporting       13535\ndebt_collection        13535\nmortgages_and_loans    13535\nretail_banking         13535\nName: count, dtype: int64\n",
          "output_type": "stream"
        }
      ]
    },
    {
      "cell_type": "code",
      "source": [
        "from sklearn.model_selection import train_test_split\n",
        "X_train,X_test,y_train,y_test=train_test_split(X_rus,y_rus,test_size=0.30,random_state=42)"
      ],
      "metadata": {
        "execution": {
          "iopub.status.busy": "2024-02-11T06:45:10.821791Z",
          "iopub.execute_input": "2024-02-11T06:45:10.823083Z",
          "iopub.status.idle": "2024-02-11T06:45:10.852280Z",
          "shell.execute_reply.started": "2024-02-11T06:45:10.823039Z",
          "shell.execute_reply": "2024-02-11T06:45:10.851388Z"
        },
        "trusted": true,
        "id": "tOwI1Fg6e4jR"
      },
      "execution_count": null,
      "outputs": []
    },
    {
      "cell_type": "code",
      "source": [
        "from sklearn.naive_bayes import MultinomialNB\n",
        "nb = MultinomialNB()\n",
        "nb.fit(X_train, y_train)\n",
        "nb.predict(X_test)"
      ],
      "metadata": {
        "execution": {
          "iopub.status.busy": "2024-02-11T06:45:12.490693Z",
          "iopub.execute_input": "2024-02-11T06:45:12.491043Z",
          "iopub.status.idle": "2024-02-11T06:45:12.654061Z",
          "shell.execute_reply.started": "2024-02-11T06:45:12.491017Z",
          "shell.execute_reply": "2024-02-11T06:45:12.652416Z"
        },
        "trusted": true,
        "id": "0lv6BpP4e4jR",
        "outputId": "060dc548-c12a-44df-9f89-d77584e260da"
      },
      "execution_count": null,
      "outputs": [
        {
          "execution_count": 15,
          "output_type": "execute_result",
          "data": {
            "text/plain": "array(['debt_collection', 'credit_card', 'credit_reporting', ...,\n       'debt_collection', 'credit_reporting', 'mortgages_and_loans'],\n      dtype='<U19')"
          },
          "metadata": {}
        }
      ]
    },
    {
      "cell_type": "code",
      "source": [
        "from sklearn.metrics import classification_report\n",
        "print(classification_report(y_test,nb.predict(X_test)))"
      ],
      "metadata": {
        "execution": {
          "iopub.status.busy": "2024-02-11T06:45:23.124660Z",
          "iopub.execute_input": "2024-02-11T06:45:23.125013Z",
          "iopub.status.idle": "2024-02-11T06:45:23.496675Z",
          "shell.execute_reply.started": "2024-02-11T06:45:23.124988Z",
          "shell.execute_reply": "2024-02-11T06:45:23.495771Z"
        },
        "trusted": true,
        "id": "xW7tNLl4e4jS",
        "outputId": "1831ed5b-4bcc-4144-9899-0fc6218b7df7"
      },
      "execution_count": null,
      "outputs": [
        {
          "name": "stdout",
          "text": "                     precision    recall  f1-score   support\n\n        credit_card       0.76      0.80      0.78      3993\n   credit_reporting       0.82      0.78      0.80      4042\n    debt_collection       0.85      0.75      0.80      4087\nmortgages_and_loans       0.82      0.90      0.86      4072\n     retail_banking       0.85      0.87      0.86      4109\n\n           accuracy                           0.82     20303\n          macro avg       0.82      0.82      0.82     20303\n       weighted avg       0.82      0.82      0.82     20303\n\n",
          "output_type": "stream"
        }
      ]
    },
    {
      "cell_type": "code",
      "source": [
        "from sklearn.ensemble import RandomForestClassifier\n",
        "rf=RandomForestClassifier()\n",
        "rf.fit(X_train,y_train)\n",
        "rf.predict(X_test)"
      ],
      "metadata": {
        "execution": {
          "iopub.status.busy": "2024-02-11T06:45:28.035539Z",
          "iopub.execute_input": "2024-02-11T06:45:28.035891Z",
          "iopub.status.idle": "2024-02-11T06:48:58.743160Z",
          "shell.execute_reply.started": "2024-02-11T06:45:28.035867Z",
          "shell.execute_reply": "2024-02-11T06:48:58.742209Z"
        },
        "trusted": true,
        "id": "wfpHYe1Ae4jS",
        "outputId": "12d518d9-84d6-4ffb-8b7f-25b2dab90aed"
      },
      "execution_count": null,
      "outputs": [
        {
          "execution_count": 17,
          "output_type": "execute_result",
          "data": {
            "text/plain": "array(['debt_collection', 'credit_card', 'credit_reporting', ...,\n       'debt_collection', 'credit_reporting', 'credit_reporting'],\n      dtype=object)"
          },
          "metadata": {}
        }
      ]
    },
    {
      "cell_type": "code",
      "source": [
        "print(classification_report(y_test,rf.predict(X_test)))"
      ],
      "metadata": {
        "execution": {
          "iopub.status.busy": "2024-02-11T06:48:58.744601Z",
          "iopub.execute_input": "2024-02-11T06:48:58.744924Z",
          "iopub.status.idle": "2024-02-11T06:49:00.393846Z",
          "shell.execute_reply.started": "2024-02-11T06:48:58.744896Z",
          "shell.execute_reply": "2024-02-11T06:49:00.392875Z"
        },
        "trusted": true,
        "id": "AUQYWH_Te4jS",
        "outputId": "85cde99a-dc78-407e-f374-1334a1a60cc6"
      },
      "execution_count": null,
      "outputs": [
        {
          "name": "stdout",
          "text": "                     precision    recall  f1-score   support\n\n        credit_card       0.81      0.80      0.81      3993\n   credit_reporting       0.85      0.82      0.84      4042\n    debt_collection       0.85      0.83      0.84      4087\nmortgages_and_loans       0.87      0.87      0.87      4072\n     retail_banking       0.84      0.89      0.86      4109\n\n           accuracy                           0.84     20303\n          macro avg       0.84      0.84      0.84     20303\n       weighted avg       0.84      0.84      0.84     20303\n\n",
          "output_type": "stream"
        }
      ]
    },
    {
      "cell_type": "code",
      "source": [
        "from imblearn.over_sampling import SMOTE\n",
        "x_smote, y_smote = SMOTE().fit_resample(X, df['product'])\n"
      ],
      "metadata": {
        "execution": {
          "iopub.status.busy": "2024-02-11T07:00:02.168796Z",
          "iopub.execute_input": "2024-02-11T07:00:02.169236Z",
          "iopub.status.idle": "2024-02-11T07:27:18.170817Z",
          "shell.execute_reply.started": "2024-02-11T07:00:02.169209Z",
          "shell.execute_reply": "2024-02-11T07:27:18.169873Z"
        },
        "trusted": true,
        "id": "GwJ_V07Fe4jS"
      },
      "execution_count": null,
      "outputs": []
    },
    {
      "cell_type": "code",
      "source": [
        "from sklearn.model_selection import train_test_split\n",
        "X_train,X_test,y_train,y_test=train_test_split(x_smote,y_smote,test_size=0.30,random_state=42)"
      ],
      "metadata": {
        "execution": {
          "iopub.status.busy": "2024-02-11T07:27:18.172449Z",
          "iopub.execute_input": "2024-02-11T07:27:18.172700Z",
          "iopub.status.idle": "2024-02-11T07:27:18.350716Z",
          "shell.execute_reply.started": "2024-02-11T07:27:18.172673Z",
          "shell.execute_reply": "2024-02-11T07:27:18.349767Z"
        },
        "trusted": true,
        "id": "szow926de4jS"
      },
      "execution_count": null,
      "outputs": []
    },
    {
      "cell_type": "code",
      "source": [
        "from sklearn.naive_bayes import MultinomialNB\n",
        "nb = MultinomialNB()\n",
        "nb.fit(X_train, y_train)\n",
        "nb.predict(X_test)"
      ],
      "metadata": {
        "execution": {
          "iopub.status.busy": "2024-02-11T07:27:18.351770Z",
          "iopub.execute_input": "2024-02-11T07:27:18.352005Z",
          "iopub.status.idle": "2024-02-11T07:27:20.272752Z",
          "shell.execute_reply.started": "2024-02-11T07:27:18.351986Z",
          "shell.execute_reply": "2024-02-11T07:27:20.271632Z"
        },
        "trusted": true,
        "id": "YnatjgJqe4jS",
        "outputId": "d0462e61-47d3-4793-dde7-5952ad327b38"
      },
      "execution_count": null,
      "outputs": [
        {
          "execution_count": 21,
          "output_type": "execute_result",
          "data": {
            "text/plain": "array(['retail_banking', 'credit_reporting', 'retail_banking', ...,\n       'retail_banking', 'credit_card', 'retail_banking'], dtype='<U19')"
          },
          "metadata": {}
        }
      ]
    },
    {
      "cell_type": "code",
      "source": [
        "from sklearn.metrics import classification_report\n",
        "print(classification_report(y_test,nb.predict(X_test)))"
      ],
      "metadata": {
        "execution": {
          "iopub.status.busy": "2024-02-11T07:27:20.274821Z",
          "iopub.execute_input": "2024-02-11T07:27:20.275157Z",
          "iopub.status.idle": "2024-02-11T07:27:24.631121Z",
          "shell.execute_reply.started": "2024-02-11T07:27:20.275131Z",
          "shell.execute_reply": "2024-02-11T07:27:24.630120Z"
        },
        "trusted": true,
        "id": "H8iWU0nfe4jS",
        "outputId": "af1c2dbe-b10d-4d83-c65e-27cdf6d9fc99"
      },
      "execution_count": null,
      "outputs": [
        {
          "name": "stdout",
          "text": "                     precision    recall  f1-score   support\n\n        credit_card       0.84      0.86      0.85     27566\n   credit_reporting       0.83      0.79      0.81     27439\n    debt_collection       0.87      0.79      0.83     27146\nmortgages_and_loans       0.87      0.92      0.89     27158\n     retail_banking       0.89      0.94      0.91     27449\n\n           accuracy                           0.86    136758\n          macro avg       0.86      0.86      0.86    136758\n       weighted avg       0.86      0.86      0.86    136758\n\n",
          "output_type": "stream"
        }
      ]
    },
    {
      "cell_type": "code",
      "source": [
        "from sklearn.ensemble import RandomForestClassifier\n",
        "rf=RandomForestClassifier()\n",
        "rf.fit(X_train,y_train)\n",
        "rf.predict(X_test)"
      ],
      "metadata": {
        "execution": {
          "iopub.status.busy": "2024-02-11T07:27:24.632644Z",
          "iopub.execute_input": "2024-02-11T07:27:24.632960Z",
          "iopub.status.idle": "2024-02-11T08:11:09.073924Z",
          "shell.execute_reply.started": "2024-02-11T07:27:24.632920Z",
          "shell.execute_reply": "2024-02-11T08:11:09.072944Z"
        },
        "trusted": true,
        "id": "_dBzFBn2e4jT",
        "outputId": "12ba28aa-277f-4471-9850-2cd769ce3dc6"
      },
      "execution_count": null,
      "outputs": [
        {
          "execution_count": 23,
          "output_type": "execute_result",
          "data": {
            "text/plain": "array(['credit_reporting', 'credit_reporting', 'retail_banking', ...,\n       'retail_banking', 'credit_card', 'retail_banking'], dtype=object)"
          },
          "metadata": {}
        }
      ]
    },
    {
      "cell_type": "code",
      "source": [
        "print(classification_report(y_test,rf.predict(X_test)))"
      ],
      "metadata": {
        "execution": {
          "iopub.status.busy": "2024-02-11T08:11:09.074944Z",
          "iopub.execute_input": "2024-02-11T08:11:09.075176Z",
          "iopub.status.idle": "2024-02-11T08:11:25.262518Z",
          "shell.execute_reply.started": "2024-02-11T08:11:09.075157Z",
          "shell.execute_reply": "2024-02-11T08:11:25.261665Z"
        },
        "trusted": true,
        "id": "H5NkTwp7e4jT",
        "outputId": "2d5ec531-07ef-43fc-82cf-9dd3c191f857"
      },
      "execution_count": null,
      "outputs": [
        {
          "name": "stdout",
          "text": "                     precision    recall  f1-score   support\n\n        credit_card       0.96      0.97      0.96     27566\n   credit_reporting       0.95      0.93      0.94     27439\n    debt_collection       0.95      0.96      0.95     27146\nmortgages_and_loans       0.97      0.96      0.97     27158\n     retail_banking       0.98      0.99      0.99     27449\n\n           accuracy                           0.96    136758\n          macro avg       0.96      0.96      0.96    136758\n       weighted avg       0.96      0.96      0.96    136758\n\n",
          "output_type": "stream"
        }
      ]
    },
    {
      "cell_type": "code",
      "source": [],
      "metadata": {
        "id": "AvZPULcXe4jT"
      },
      "execution_count": null,
      "outputs": []
    },
    {
      "cell_type": "code",
      "source": [],
      "metadata": {
        "id": "ZK4dgPjAe4jU"
      },
      "execution_count": null,
      "outputs": []
    }
  ]
}